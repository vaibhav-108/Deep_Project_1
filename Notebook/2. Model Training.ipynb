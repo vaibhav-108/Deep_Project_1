{
 "cells": [
  {
   "cell_type": "markdown",
   "id": "e734d1b0",
   "metadata": {},
   "source": [
    "## Model Training"
   ]
  },
  {
   "cell_type": "markdown",
   "id": "a17da3e5",
   "metadata": {},
   "source": [
    "#### 1.1 Import Data and Required Packages\n",
    "##### Importing Pandas, Numpy, Matplotlib, Seaborn and Warings Library."
   ]
  },
  {
   "cell_type": "code",
   "execution_count": 28,
   "id": "71bab3e5",
   "metadata": {},
   "outputs": [],
   "source": [
    "import numpy as np\n",
    "import pandas as pd\n",
    "import seaborn as sns\n",
    "import matplotlib.pyplot as plt\n",
    "\n",
    "#modelling\n",
    "from sklearn.model_selection import train_test_split\n",
    "from sklearn.metrics import r2_score,mean_absolute_error,mean_squared_error\n",
    "from sklearn.linear_model import LinearRegression,Ridge,Lasso\n",
    "from sklearn.neighbors import KNeighborsRegressor\n",
    "from sklearn.tree import DecisionTreeRegressor\n",
    "from sklearn.ensemble import RandomForestRegressor,AdaBoostRegressor\n",
    "from sklearn.svm import SVR\n",
    "from xgboost import XGBRegressor\n",
    "from catboost import CatBoostRegressor"
   ]
  },
  {
   "cell_type": "markdown",
   "id": "f9b04b41",
   "metadata": {},
   "source": [
    "#### Import the CSV Data as Pandas DataFrame"
   ]
  },
  {
   "cell_type": "code",
   "execution_count": 6,
   "id": "e6a14946",
   "metadata": {},
   "outputs": [
    {
     "data": {
      "text/html": [
       "<div>\n",
       "<style scoped>\n",
       "    .dataframe tbody tr th:only-of-type {\n",
       "        vertical-align: middle;\n",
       "    }\n",
       "\n",
       "    .dataframe tbody tr th {\n",
       "        vertical-align: top;\n",
       "    }\n",
       "\n",
       "    .dataframe thead th {\n",
       "        text-align: right;\n",
       "    }\n",
       "</style>\n",
       "<table border=\"1\" class=\"dataframe\">\n",
       "  <thead>\n",
       "    <tr style=\"text-align: right;\">\n",
       "      <th></th>\n",
       "      <th>gender</th>\n",
       "      <th>race_ethnicity</th>\n",
       "      <th>parental_level_of_education</th>\n",
       "      <th>lunch</th>\n",
       "      <th>test_preparation_course</th>\n",
       "      <th>math_score</th>\n",
       "      <th>reading_score</th>\n",
       "      <th>writing_score</th>\n",
       "    </tr>\n",
       "  </thead>\n",
       "  <tbody>\n",
       "    <tr>\n",
       "      <th>0</th>\n",
       "      <td>female</td>\n",
       "      <td>group B</td>\n",
       "      <td>bachelor's degree</td>\n",
       "      <td>standard</td>\n",
       "      <td>none</td>\n",
       "      <td>72</td>\n",
       "      <td>72</td>\n",
       "      <td>74</td>\n",
       "    </tr>\n",
       "    <tr>\n",
       "      <th>1</th>\n",
       "      <td>female</td>\n",
       "      <td>group C</td>\n",
       "      <td>some college</td>\n",
       "      <td>standard</td>\n",
       "      <td>completed</td>\n",
       "      <td>69</td>\n",
       "      <td>90</td>\n",
       "      <td>88</td>\n",
       "    </tr>\n",
       "    <tr>\n",
       "      <th>2</th>\n",
       "      <td>female</td>\n",
       "      <td>group B</td>\n",
       "      <td>master's degree</td>\n",
       "      <td>standard</td>\n",
       "      <td>none</td>\n",
       "      <td>90</td>\n",
       "      <td>95</td>\n",
       "      <td>93</td>\n",
       "    </tr>\n",
       "    <tr>\n",
       "      <th>3</th>\n",
       "      <td>male</td>\n",
       "      <td>group A</td>\n",
       "      <td>associate's degree</td>\n",
       "      <td>free/reduced</td>\n",
       "      <td>none</td>\n",
       "      <td>47</td>\n",
       "      <td>57</td>\n",
       "      <td>44</td>\n",
       "    </tr>\n",
       "    <tr>\n",
       "      <th>4</th>\n",
       "      <td>male</td>\n",
       "      <td>group C</td>\n",
       "      <td>some college</td>\n",
       "      <td>standard</td>\n",
       "      <td>none</td>\n",
       "      <td>76</td>\n",
       "      <td>78</td>\n",
       "      <td>75</td>\n",
       "    </tr>\n",
       "  </tbody>\n",
       "</table>\n",
       "</div>"
      ],
      "text/plain": [
       "   gender race_ethnicity parental_level_of_education  ... math_score reading_score  writing_score\n",
       "0  female        group B           bachelor's degree  ...         72            72             74\n",
       "1  female        group C                some college  ...         69            90             88\n",
       "2  female        group B             master's degree  ...         90            95             93\n",
       "3    male        group A          associate's degree  ...         47            57             44\n",
       "4    male        group C                some college  ...         76            78             75\n",
       "\n",
       "[5 rows x 8 columns]"
      ]
     },
     "execution_count": 6,
     "metadata": {},
     "output_type": "execute_result"
    }
   ],
   "source": [
    "df=pd.read_csv(r\"data/stud.csv\")\n",
    "\n",
    "df.head()"
   ]
  },
  {
   "cell_type": "markdown",
   "id": "bba8477e",
   "metadata": {},
   "source": [
    "#### Preparing X and Y variables"
   ]
  },
  {
   "cell_type": "code",
   "execution_count": 10,
   "id": "6ab1fc30",
   "metadata": {},
   "outputs": [
    {
     "data": {
      "text/html": [
       "<div>\n",
       "<style scoped>\n",
       "    .dataframe tbody tr th:only-of-type {\n",
       "        vertical-align: middle;\n",
       "    }\n",
       "\n",
       "    .dataframe tbody tr th {\n",
       "        vertical-align: top;\n",
       "    }\n",
       "\n",
       "    .dataframe thead th {\n",
       "        text-align: right;\n",
       "    }\n",
       "</style>\n",
       "<table border=\"1\" class=\"dataframe\">\n",
       "  <thead>\n",
       "    <tr style=\"text-align: right;\">\n",
       "      <th></th>\n",
       "      <th>gender</th>\n",
       "      <th>race_ethnicity</th>\n",
       "      <th>parental_level_of_education</th>\n",
       "      <th>lunch</th>\n",
       "      <th>test_preparation_course</th>\n",
       "      <th>reading_score</th>\n",
       "      <th>writing_score</th>\n",
       "    </tr>\n",
       "  </thead>\n",
       "  <tbody>\n",
       "    <tr>\n",
       "      <th>0</th>\n",
       "      <td>female</td>\n",
       "      <td>group B</td>\n",
       "      <td>bachelor's degree</td>\n",
       "      <td>standard</td>\n",
       "      <td>none</td>\n",
       "      <td>72</td>\n",
       "      <td>74</td>\n",
       "    </tr>\n",
       "    <tr>\n",
       "      <th>1</th>\n",
       "      <td>female</td>\n",
       "      <td>group C</td>\n",
       "      <td>some college</td>\n",
       "      <td>standard</td>\n",
       "      <td>completed</td>\n",
       "      <td>90</td>\n",
       "      <td>88</td>\n",
       "    </tr>\n",
       "    <tr>\n",
       "      <th>2</th>\n",
       "      <td>female</td>\n",
       "      <td>group B</td>\n",
       "      <td>master's degree</td>\n",
       "      <td>standard</td>\n",
       "      <td>none</td>\n",
       "      <td>95</td>\n",
       "      <td>93</td>\n",
       "    </tr>\n",
       "    <tr>\n",
       "      <th>3</th>\n",
       "      <td>male</td>\n",
       "      <td>group A</td>\n",
       "      <td>associate's degree</td>\n",
       "      <td>free/reduced</td>\n",
       "      <td>none</td>\n",
       "      <td>57</td>\n",
       "      <td>44</td>\n",
       "    </tr>\n",
       "    <tr>\n",
       "      <th>4</th>\n",
       "      <td>male</td>\n",
       "      <td>group C</td>\n",
       "      <td>some college</td>\n",
       "      <td>standard</td>\n",
       "      <td>none</td>\n",
       "      <td>78</td>\n",
       "      <td>75</td>\n",
       "    </tr>\n",
       "    <tr>\n",
       "      <th>...</th>\n",
       "      <td>...</td>\n",
       "      <td>...</td>\n",
       "      <td>...</td>\n",
       "      <td>...</td>\n",
       "      <td>...</td>\n",
       "      <td>...</td>\n",
       "      <td>...</td>\n",
       "    </tr>\n",
       "    <tr>\n",
       "      <th>995</th>\n",
       "      <td>female</td>\n",
       "      <td>group E</td>\n",
       "      <td>master's degree</td>\n",
       "      <td>standard</td>\n",
       "      <td>completed</td>\n",
       "      <td>99</td>\n",
       "      <td>95</td>\n",
       "    </tr>\n",
       "    <tr>\n",
       "      <th>996</th>\n",
       "      <td>male</td>\n",
       "      <td>group C</td>\n",
       "      <td>high school</td>\n",
       "      <td>free/reduced</td>\n",
       "      <td>none</td>\n",
       "      <td>55</td>\n",
       "      <td>55</td>\n",
       "    </tr>\n",
       "    <tr>\n",
       "      <th>997</th>\n",
       "      <td>female</td>\n",
       "      <td>group C</td>\n",
       "      <td>high school</td>\n",
       "      <td>free/reduced</td>\n",
       "      <td>completed</td>\n",
       "      <td>71</td>\n",
       "      <td>65</td>\n",
       "    </tr>\n",
       "    <tr>\n",
       "      <th>998</th>\n",
       "      <td>female</td>\n",
       "      <td>group D</td>\n",
       "      <td>some college</td>\n",
       "      <td>standard</td>\n",
       "      <td>completed</td>\n",
       "      <td>78</td>\n",
       "      <td>77</td>\n",
       "    </tr>\n",
       "    <tr>\n",
       "      <th>999</th>\n",
       "      <td>female</td>\n",
       "      <td>group D</td>\n",
       "      <td>some college</td>\n",
       "      <td>free/reduced</td>\n",
       "      <td>none</td>\n",
       "      <td>86</td>\n",
       "      <td>86</td>\n",
       "    </tr>\n",
       "  </tbody>\n",
       "</table>\n",
       "<p>1000 rows × 7 columns</p>\n",
       "</div>"
      ],
      "text/plain": [
       "     gender race_ethnicity parental_level_of_education  ... test_preparation_course reading_score  writing_score\n",
       "0    female        group B           bachelor's degree  ...                    none            72             74\n",
       "1    female        group C                some college  ...               completed            90             88\n",
       "2    female        group B             master's degree  ...                    none            95             93\n",
       "3      male        group A          associate's degree  ...                    none            57             44\n",
       "4      male        group C                some college  ...                    none            78             75\n",
       "..      ...            ...                         ...  ...                     ...           ...            ...\n",
       "995  female        group E             master's degree  ...               completed            99             95\n",
       "996    male        group C                 high school  ...                    none            55             55\n",
       "997  female        group C                 high school  ...               completed            71             65\n",
       "998  female        group D                some college  ...               completed            78             77\n",
       "999  female        group D                some college  ...                    none            86             86\n",
       "\n",
       "[1000 rows x 7 columns]"
      ]
     },
     "execution_count": 10,
     "metadata": {},
     "output_type": "execute_result"
    }
   ],
   "source": [
    "x= df.drop('math_score',axis=1)   #--> here we take math score as dependent column\n",
    "y= df['math_score']\n",
    "\n",
    "x"
   ]
  },
  {
   "cell_type": "code",
   "execution_count": 11,
   "id": "8e5894e4",
   "metadata": {},
   "outputs": [
    {
     "data": {
      "text/plain": [
       "0      72\n",
       "1      69\n",
       "2      90\n",
       "3      47\n",
       "4      76\n",
       "       ..\n",
       "995    88\n",
       "996    62\n",
       "997    59\n",
       "998    68\n",
       "999    77\n",
       "Name: math_score, Length: 1000, dtype: int64"
      ]
     },
     "execution_count": 11,
     "metadata": {},
     "output_type": "execute_result"
    }
   ],
   "source": [
    "y"
   ]
  },
  {
   "cell_type": "code",
   "execution_count": 22,
   "id": "c205d036",
   "metadata": {},
   "outputs": [],
   "source": [
    "# column transformation\n",
    "from sklearn.preprocessing import OneHotEncoder,StandardScaler\n",
    "from sklearn.compose import ColumnTransformer\n",
    "\n",
    "num_feature=x.select_dtypes(exclude='object').columns\n",
    "cat_feature= x.select_dtypes(include='object').columns\n",
    "\n",
    "num_transform= StandardScaler()\n",
    "OH_transform= OneHotEncoder()\n",
    "\n",
    "preprocess = ColumnTransformer(transformers=\n",
    "                                  [\n",
    "                                    ('numeric_trasform',num_transform,num_feature),\n",
    "                                    ('cat_trasform',OH_transform,cat_feature)\n",
    "                                  ]\n",
    "                               )\n",
    "\n"
   ]
  },
  {
   "cell_type": "code",
   "execution_count": 23,
   "id": "6f5712fd",
   "metadata": {},
   "outputs": [
    {
     "data": {
      "text/plain": [
       "array([[ 0.19399858,  0.39149181,  1.        , ...,  1.        ,\n",
       "         0.        ,  1.        ],\n",
       "       [ 1.42747598,  1.31326868,  1.        , ...,  1.        ,\n",
       "         1.        ,  0.        ],\n",
       "       [ 1.77010859,  1.64247471,  1.        , ...,  1.        ,\n",
       "         0.        ,  1.        ],\n",
       "       ...,\n",
       "       [ 0.12547206, -0.20107904,  1.        , ...,  0.        ,\n",
       "         1.        ,  0.        ],\n",
       "       [ 0.60515772,  0.58901542,  1.        , ...,  1.        ,\n",
       "         1.        ,  0.        ],\n",
       "       [ 1.15336989,  1.18158627,  1.        , ...,  0.        ,\n",
       "         0.        ,  1.        ]])"
      ]
     },
     "execution_count": 23,
     "metadata": {},
     "output_type": "execute_result"
    }
   ],
   "source": [
    "preprocess.fit_transform(x)"
   ]
  },
  {
   "cell_type": "code",
   "execution_count": 24,
   "id": "5a80cf94",
   "metadata": {},
   "outputs": [],
   "source": [
    "x= preprocess.fit_transform(x)"
   ]
  },
  {
   "cell_type": "code",
   "execution_count": 25,
   "id": "cd816d33",
   "metadata": {},
   "outputs": [
    {
     "data": {
      "text/plain": [
       "(1000, 19)"
      ]
     },
     "execution_count": 25,
     "metadata": {},
     "output_type": "execute_result"
    }
   ],
   "source": [
    "x.shape"
   ]
  },
  {
   "cell_type": "code",
   "execution_count": 26,
   "id": "afae25f9",
   "metadata": {},
   "outputs": [
    {
     "data": {
      "text/plain": [
       "((800, 19), (200, 19))"
      ]
     },
     "execution_count": 26,
     "metadata": {},
     "output_type": "execute_result"
    }
   ],
   "source": [
    "x_train,x_test,y_train,y_test = train_test_split(x,y,test_size=0.2,random_state=42)\n",
    "\n",
    "x_train.shape, x_test.shape"
   ]
  },
  {
   "cell_type": "markdown",
   "id": "f4587bfc",
   "metadata": {},
   "source": [
    "### Model evaluation and prediction"
   ]
  },
  {
   "cell_type": "code",
   "execution_count": 38,
   "id": "d259889e",
   "metadata": {},
   "outputs": [],
   "source": [
    "def model_eval(actual,predict):\n",
    "    R2_score= r2_score(actual,predict)\n",
    "    mse= mean_squared_error(actual,predict)\n",
    "    RMSE= np.sqrt(R2_score)\n",
    "    MAE= mean_absolute_error(actual,predict)\n",
    "    return R2_score,mse,RMSE,MAE\n",
    "    "
   ]
  },
  {
   "cell_type": "code",
   "execution_count": 44,
   "id": "98e9db88",
   "metadata": {},
   "outputs": [
    {
     "name": "stdout",
     "output_type": "stream",
     "text": [
      "linear_regression\n",
      "Model performance for Training dataset\n",
      "- Root mean square error 0.9350\n",
      "- mean square error 28.3349\n",
      "- Mean Absolute error 4.2667\n",
      "- R2_score 0.8743\n",
      "----------------------------------------\n",
      "Model performance for Testing dataset\n",
      "- Root mean square error 0.9383\n",
      "- mean square error 29.0952\n",
      "- Mean Absolute error 4.2148\n",
      "- R2_score 0.8804\n",
      "****************************************\n",
      "\n",
      "\n",
      "Ridge\n",
      "Model performance for Training dataset\n",
      "- Root mean square error 0.9350\n",
      "- mean square error 28.3378\n",
      "- Mean Absolute error 4.2650\n",
      "- R2_score 0.8743\n",
      "----------------------------------------\n",
      "Model performance for Testing dataset\n",
      "- Root mean square error 0.9384\n",
      "- mean square error 29.0563\n",
      "- Mean Absolute error 4.2111\n",
      "- R2_score 0.8806\n",
      "****************************************\n",
      "\n",
      "\n",
      "Lasso\n",
      "Model performance for Training dataset\n",
      "- Root mean square error 0.8984\n",
      "- mean square error 43.4783\n",
      "- Mean Absolute error 5.2063\n",
      "- R2_score 0.8071\n",
      "----------------------------------------\n",
      "Model performance for Testing dataset\n",
      "- Root mean square error 0.9085\n",
      "- mean square error 42.5063\n",
      "- Mean Absolute error 5.1579\n",
      "- R2_score 0.8253\n",
      "****************************************\n",
      "\n",
      "\n",
      "KNN\n",
      "Model performance for Training dataset\n",
      "- Root mean square error 0.9248\n",
      "- mean square error 32.6428\n",
      "- Mean Absolute error 4.5180\n",
      "- R2_score 0.8552\n",
      "----------------------------------------\n",
      "Model performance for Testing dataset\n",
      "- Root mean square error 0.8853\n",
      "- mean square error 52.6170\n",
      "- Mean Absolute error 5.6190\n",
      "- R2_score 0.7838\n",
      "****************************************\n",
      "\n",
      "\n",
      "Decision_tree\n",
      "Model performance for Training dataset\n",
      "- Root mean square error 0.9998\n",
      "- mean square error 0.0781\n",
      "- Mean Absolute error 0.0187\n",
      "- R2_score 0.9997\n",
      "----------------------------------------\n",
      "Model performance for Testing dataset\n",
      "- Root mean square error 0.8625\n",
      "- mean square error 62.3350\n",
      "- Mean Absolute error 6.2050\n",
      "- R2_score 0.7438\n",
      "****************************************\n",
      "\n",
      "\n",
      "RandomForest\n",
      "Model performance for Training dataset\n",
      "- Root mean square error 0.9884\n",
      "- mean square error 5.1830\n",
      "- Mean Absolute error 1.8111\n",
      "- R2_score 0.9770\n",
      "----------------------------------------\n",
      "Model performance for Testing dataset\n",
      "- Root mean square error 0.9206\n",
      "- mean square error 37.0970\n",
      "- Mean Absolute error 4.7121\n",
      "- R2_score 0.8475\n",
      "****************************************\n",
      "\n",
      "\n",
      "Adaboost\n",
      "Model performance for Training dataset\n",
      "- Root mean square error 0.9178\n",
      "- mean square error 35.5205\n",
      "- Mean Absolute error 4.8915\n",
      "- R2_score 0.8424\n",
      "----------------------------------------\n",
      "Model performance for Testing dataset\n",
      "- Root mean square error 0.9173\n",
      "- mean square error 38.5654\n",
      "- Mean Absolute error 4.8365\n",
      "- R2_score 0.8415\n",
      "****************************************\n",
      "\n",
      "\n",
      "Xgboost\n",
      "Model performance for Training dataset\n",
      "- Root mean square error 0.9982\n",
      "- mean square error 0.8258\n",
      "- Mean Absolute error 0.6148\n",
      "- R2_score 0.9963\n",
      "----------------------------------------\n",
      "Model performance for Testing dataset\n",
      "- Root mean square error 0.9054\n",
      "- mean square error 43.8454\n",
      "- Mean Absolute error 5.0703\n",
      "- R2_score 0.8198\n",
      "****************************************\n",
      "\n",
      "\n",
      "CatBoost\n",
      "Model performance for Training dataset\n",
      "- Root mean square error 0.9793\n",
      "- mean square error 9.2578\n",
      "- Mean Absolute error 2.4054\n",
      "- R2_score 0.9589\n",
      "----------------------------------------\n",
      "Model performance for Testing dataset\n",
      "- Root mean square error 0.9228\n",
      "- mean square error 36.1037\n",
      "- Mean Absolute error 4.6125\n",
      "- R2_score 0.8516\n",
      "****************************************\n",
      "\n",
      "\n"
     ]
    }
   ],
   "source": [
    "models= {'linear_regression': LinearRegression(),\n",
    "        'Ridge': Ridge(),\n",
    "        'Lasso': Lasso(),\n",
    "        'KNN': KNeighborsRegressor(),\n",
    "        'Decision_tree': DecisionTreeRegressor(),\n",
    "        'RandomForest': RandomForestRegressor(),\n",
    "        'Adaboost': AdaBoostRegressor(),\n",
    "        'Xgboost': XGBRegressor(),\n",
    "        'CatBoost': CatBoostRegressor(verbose=False)\n",
    "}\n",
    "\n",
    "model_list=[]\n",
    "r2_list=[]\n",
    "\n",
    "for i in range(len(list(models))):\n",
    "    model= list(models.values())[i]\n",
    "    model.fit(x_train,y_train)   #--> Train model\n",
    "    \n",
    "    #predict model\n",
    "    y_predict_train = model.predict(x_train)\n",
    "    y_predict_test = model.predict(x_test)\n",
    "    \n",
    "    #model Evaluation\n",
    "    model_train_R2Score, model_train_MSE, model_train_RMSE,model_train_MAE = model_eval(y_train,y_predict_train)\n",
    "    \n",
    "    model_test_R2Score, model_test_MSE, model_test_RMSE,model_test_MAE = model_eval(y_test,y_predict_test)\n",
    "    \n",
    "    \n",
    "    print(list(models.keys())[i])\n",
    "    model_list.append(list(models.keys())[i])\n",
    "    \n",
    "    print(\"Model performance for Training dataset\")\n",
    "    print(\"- Root mean square error {:.4f}\".format(model_train_RMSE))\n",
    "    print(\"- mean square error {:.4f}\".format(model_train_MSE))\n",
    "    print(\"- Mean Absolute error {:.4f}\".format(model_train_MAE))\n",
    "    print(\"- R2_score {:.4f}\".format(model_train_R2Score))\n",
    "    \n",
    "    print('-'*40)\n",
    "   \n",
    "    \n",
    "    print(\"Model performance for Testing dataset\")\n",
    "    print(\"- Root mean square error {:.4f}\".format(model_test_RMSE))\n",
    "    print(\"- mean square error {:.4f}\".format(model_test_MSE))\n",
    "    print(\"- Mean Absolute error {:.4f}\".format(model_test_MAE))\n",
    "    print(\"- R2_score {:.4f}\".format(model_test_R2Score))\n",
    "    r2_list.append(model_test_R2Score)\n",
    "    \n",
    "    print('*'*40)\n",
    "    print('\\n')\n",
    "    \n",
    "    \n",
    "    \n",
    "    \n",
    "    \n",
    "    \n",
    "    \n",
    "    \n",
    "    "
   ]
  },
  {
   "cell_type": "code",
   "execution_count": 47,
   "id": "6ab447b0",
   "metadata": {},
   "outputs": [
    {
     "data": {
      "text/plain": [
       "[('linear_regression', 0.8804332983749565),\n",
       " ('Ridge', 0.8805931485028737),\n",
       " ('Lasso', 0.825320079562973),\n",
       " ('KNN', 0.7837702557426202),\n",
       " ('Decision_tree', 0.7438341009885822),\n",
       " ('RandomForest', 0.8475497340957193),\n",
       " ('Adaboost', 0.8415153607712265),\n",
       " ('Xgboost', 0.8198173310440375),\n",
       " ('CatBoost', 0.8516318920747058)]"
      ]
     },
     "execution_count": 47,
     "metadata": {},
     "output_type": "execute_result"
    }
   ],
   "source": [
    "model_score=list(zip(model_list,r2_list))\n",
    "model_score"
   ]
  },
  {
   "cell_type": "code",
   "execution_count": 48,
   "id": "03e494a2",
   "metadata": {},
   "outputs": [
    {
     "data": {
      "text/html": [
       "<div>\n",
       "<style scoped>\n",
       "    .dataframe tbody tr th:only-of-type {\n",
       "        vertical-align: middle;\n",
       "    }\n",
       "\n",
       "    .dataframe tbody tr th {\n",
       "        vertical-align: top;\n",
       "    }\n",
       "\n",
       "    .dataframe thead th {\n",
       "        text-align: right;\n",
       "    }\n",
       "</style>\n",
       "<table border=\"1\" class=\"dataframe\">\n",
       "  <thead>\n",
       "    <tr style=\"text-align: right;\">\n",
       "      <th></th>\n",
       "      <th>Model_name</th>\n",
       "      <th>R2_Score</th>\n",
       "    </tr>\n",
       "  </thead>\n",
       "  <tbody>\n",
       "    <tr>\n",
       "      <th>1</th>\n",
       "      <td>Ridge</td>\n",
       "      <td>0.880593</td>\n",
       "    </tr>\n",
       "    <tr>\n",
       "      <th>0</th>\n",
       "      <td>linear_regression</td>\n",
       "      <td>0.880433</td>\n",
       "    </tr>\n",
       "    <tr>\n",
       "      <th>8</th>\n",
       "      <td>CatBoost</td>\n",
       "      <td>0.851632</td>\n",
       "    </tr>\n",
       "    <tr>\n",
       "      <th>5</th>\n",
       "      <td>RandomForest</td>\n",
       "      <td>0.847550</td>\n",
       "    </tr>\n",
       "    <tr>\n",
       "      <th>6</th>\n",
       "      <td>Adaboost</td>\n",
       "      <td>0.841515</td>\n",
       "    </tr>\n",
       "    <tr>\n",
       "      <th>2</th>\n",
       "      <td>Lasso</td>\n",
       "      <td>0.825320</td>\n",
       "    </tr>\n",
       "    <tr>\n",
       "      <th>7</th>\n",
       "      <td>Xgboost</td>\n",
       "      <td>0.819817</td>\n",
       "    </tr>\n",
       "    <tr>\n",
       "      <th>3</th>\n",
       "      <td>KNN</td>\n",
       "      <td>0.783770</td>\n",
       "    </tr>\n",
       "    <tr>\n",
       "      <th>4</th>\n",
       "      <td>Decision_tree</td>\n",
       "      <td>0.743834</td>\n",
       "    </tr>\n",
       "  </tbody>\n",
       "</table>\n",
       "</div>"
      ],
      "text/plain": [
       "          Model_name  R2_Score\n",
       "1              Ridge  0.880593\n",
       "0  linear_regression  0.880433\n",
       "8           CatBoost  0.851632\n",
       "5       RandomForest  0.847550\n",
       "6           Adaboost  0.841515\n",
       "2              Lasso  0.825320\n",
       "7            Xgboost  0.819817\n",
       "3                KNN  0.783770\n",
       "4      Decision_tree  0.743834"
      ]
     },
     "execution_count": 48,
     "metadata": {},
     "output_type": "execute_result"
    }
   ],
   "source": [
    "pd.DataFrame(model_score,columns=['Model_name','R2_Score']).sort_values(by='R2_Score',ascending=False)"
   ]
  },
  {
   "cell_type": "markdown",
   "id": "8a54eced",
   "metadata": {},
   "source": [
    "### Linear model is performing good"
   ]
  },
  {
   "cell_type": "code",
   "execution_count": 50,
   "id": "d3939a87",
   "metadata": {},
   "outputs": [
    {
     "name": "stdout",
     "output_type": "stream",
     "text": [
      "Accuracy of linear model 0.88\n"
     ]
    }
   ],
   "source": [
    "linear_model= LinearRegression(fit_intercept=True)\n",
    "linear_model= linear_model.fit(x_train,y_train)\n",
    "y_pred= linear_model.predict(x_test)\n",
    "score= r2_score(y_test,y_pred)\n",
    "\n",
    "print(\"Accuracy of linear model %.2f\" %score)\n"
   ]
  },
  {
   "cell_type": "markdown",
   "id": "9372e54f",
   "metadata": {},
   "source": [
    "## Plot y_pred and y_test"
   ]
  },
  {
   "cell_type": "code",
   "execution_count": 52,
   "id": "ec18a0f3",
   "metadata": {},
   "outputs": [
    {
     "data": {
      "image/png": "[encoded data removed]",
      "text/plain": [
       "<Figure size 640x480 with 1 Axes>"
      ]
     },
     "metadata": {},
     "output_type": "display_data"
    }
   ],
   "source": [
    "plt.scatter(y_test,y_pred)\n",
    "plt.xlabel('Actuaal')\n",
    "plt.ylabel('Predicted')\n",
    "plt.show()"
   ]
  },
  {
   "cell_type": "code",
   "execution_count": 53,
   "id": "454fea6a",
   "metadata": {},
   "outputs": [
    {
     "data": {
      "image/png": "[encoded data removed]",
      "text/plain": [
       "<Figure size 640x480 with 1 Axes>"
      ]
     },
     "metadata": {},
     "output_type": "display_data"
    }
   ],
   "source": [
    "sns.regplot(x=y_test,y=y_pred,ci=None,color ='red');"
   ]
  },
  {
   "cell_type": "code",
   "execution_count": null,
   "id": "08618720",
   "metadata": {},
   "outputs": [],
   "source": []
  },
  {
   "cell_type": "code",
   "execution_count": null,
   "id": "9e16e0fe",
   "metadata": {},
   "outputs": [],
   "source": []
  }
 ],
 "metadata": {
  "kernelspec": {
   "display_name": "Python 3 (ipykernel)",
   "language": "python",
   "name": "python3"
  },
  "language_info": {
   "codemirror_mode": {
    "name": "ipython",
    "version": 3
   },
   "file_extension": ".py",
   "mimetype": "text/x-python",
   "name": "python",
   "nbconvert_exporter": "python",
   "pygments_lexer": "ipython3",
   "version": "3.10.9"
  }
 },
 "nbformat": 4,
 "nbformat_minor": 5
}
